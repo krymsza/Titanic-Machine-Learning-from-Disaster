{
  "metadata": {
    "kernelspec": {
      "language": "python",
      "display_name": "Python 3",
      "name": "python3"
    },
    "language_info": {
      "pygments_lexer": "ipython3",
      "nbconvert_exporter": "python",
      "version": "3.6.4",
      "file_extension": ".py",
      "codemirror_mode": {
        "name": "ipython",
        "version": 3
      },
      "name": "python",
      "mimetype": "text/x-python"
    },
    "colab": {
      "provenance": [],
      "include_colab_link": true
    }
  },
  "nbformat_minor": 0,
  "nbformat": 4,
  "cells": [
    {
      "cell_type": "markdown",
      "metadata": {
        "id": "view-in-github",
        "colab_type": "text"
      },
      "source": [
        "<a href=\"https://colab.research.google.com/github/krymsza/Titanic-Machine-Learning-from-Disaster/blob/main/titanic.ipynb\" target=\"_parent\"><img src=\"https://colab.research.google.com/assets/colab-badge.svg\" alt=\"Open In Colab\"/></a>"
      ]
    },
    {
      "cell_type": "markdown",
      "source": [
        "#**Titanic - Machine Learning from Disaster**\n",
        "\n",
        "[Kaggle competition](https://www.kaggle.com/competitions/titanic )\n",
        "\n",
        "**[Score: 0.78229]**"
      ],
      "metadata": {
        "id": "TAVSR6WHVewD"
      }
    },
    {
      "cell_type": "markdown",
      "source": [
        "Data description\n",
        "\n",
        "\n",
        "* **survival**\tSurvival\t0 = No, 1 = Yes\n",
        "* **pclass**\tTicket class\t1 = 1st, 2 = 2nd, 3 = 3rd\n",
        "* **sex**\tSex\n",
        "* **Age**\tAge in years\n",
        "* **sibsp**\t# of siblings / spouses aboard the Titanic\n",
        "* **parch**\t# of parents / children aboard the Titanic\n",
        "* **ticket**\tTicket number\n",
        "* **fare**\tPassenger fare\n",
        "* **cabin**\tCabin number\n",
        "* **embarked**\tPort of Embarkation\tC = Cherbourg, Q = Queenstown, S = Southampton"
      ],
      "metadata": {
        "id": "QR6g5oE9VewL"
      }
    },
    {
      "cell_type": "markdown",
      "source": [
        "## prepare env"
      ],
      "metadata": {
        "id": "jVmyACLrVewN"
      }
    },
    {
      "cell_type": "code",
      "source": [
        "import numpy as np\n",
        "import pandas as pd\n",
        "import os\n",
        "import seaborn as sns\n",
        "import sklearn.svm as svm\n",
        "import math\n",
        "import re\n",
        "import matplotlib.pyplot as plt\n",
        "\n",
        "from sklearn.preprocessing import OneHotEncoder\n",
        "from sklearn.model_selection import GridSearchCV\n",
        "\n",
        "#from sklearn.model_selection import StratifiedKFold, cross_val_score\n",
        "#from sklearn.metrics import  classification_report, confusion_matrix\n",
        "\n",
        "# Machine Learning Models\n",
        "from sklearn.tree import DecisionTreeClassifier\n",
        "from sklearn.tree import plot_tree\n",
        "\n",
        "\n",
        "for dirname, _, filenames in os.walk('/kaggle/input'):\n",
        "    for filename in filenames:\n",
        "        print(os.path.join(dirname, filename))"
      ],
      "metadata": {
        "execution": {
          "iopub.status.busy": "2023-10-10T18:08:22.639459Z",
          "iopub.execute_input": "2023-10-10T18:08:22.639920Z",
          "iopub.status.idle": "2023-10-10T18:08:24.418492Z",
          "shell.execute_reply.started": "2023-10-10T18:08:22.639885Z",
          "shell.execute_reply": "2023-10-10T18:08:24.417118Z"
        },
        "trusted": true,
        "id": "FLFh0aqXVewO"
      },
      "execution_count": null,
      "outputs": []
    },
    {
      "cell_type": "code",
      "source": [
        "test_data = pd.read_csv(\"./test.csv\")\n",
        "train_data = pd.read_csv(\"./train.csv\")\n",
        "#train_data.head()"
      ],
      "metadata": {
        "execution": {
          "iopub.status.busy": "2023-10-10T18:08:24.420462Z",
          "iopub.execute_input": "2023-10-10T18:08:24.420909Z",
          "iopub.status.idle": "2023-10-10T18:08:24.461738Z",
          "shell.execute_reply.started": "2023-10-10T18:08:24.420872Z",
          "shell.execute_reply": "2023-10-10T18:08:24.460720Z"
        },
        "trusted": true,
        "id": "EU2NZCxiVewR"
      },
      "execution_count": null,
      "outputs": []
    },
    {
      "cell_type": "markdown",
      "source": [
        "# inspect & prepare data"
      ],
      "metadata": {
        "id": "OPbO4wCpVewS"
      }
    },
    {
      "cell_type": "markdown",
      "source": [
        "## inspect"
      ],
      "metadata": {
        "id": "BkBNVsC3VewT"
      }
    },
    {
      "cell_type": "code",
      "source": [
        "train_data.head()"
      ],
      "metadata": {
        "execution": {
          "iopub.status.busy": "2023-10-10T18:08:24.463025Z",
          "iopub.execute_input": "2023-10-10T18:08:24.463542Z",
          "iopub.status.idle": "2023-10-10T18:08:24.495248Z",
          "shell.execute_reply.started": "2023-10-10T18:08:24.463513Z",
          "shell.execute_reply": "2023-10-10T18:08:24.493223Z"
        },
        "trusted": true,
        "id": "5UADi64LVewU"
      },
      "execution_count": null,
      "outputs": []
    },
    {
      "cell_type": "code",
      "source": [
        "train_data.describe()"
      ],
      "metadata": {
        "execution": {
          "iopub.status.busy": "2023-10-10T18:08:24.497976Z",
          "iopub.execute_input": "2023-10-10T18:08:24.498887Z",
          "iopub.status.idle": "2023-10-10T18:08:24.543194Z",
          "shell.execute_reply.started": "2023-10-10T18:08:24.498830Z",
          "shell.execute_reply": "2023-10-10T18:08:24.541481Z"
        },
        "trusted": true,
        "id": "nd5y3YxIVewV"
      },
      "execution_count": null,
      "outputs": []
    },
    {
      "cell_type": "code",
      "source": [
        "#rows\n",
        "train_data.shape[0]"
      ],
      "metadata": {
        "execution": {
          "iopub.status.busy": "2023-10-10T18:08:24.545610Z",
          "iopub.execute_input": "2023-10-10T18:08:24.546953Z",
          "iopub.status.idle": "2023-10-10T18:08:24.555449Z",
          "shell.execute_reply.started": "2023-10-10T18:08:24.546902Z",
          "shell.execute_reply": "2023-10-10T18:08:24.553447Z"
        },
        "trusted": true,
        "id": "KKC59EW2VewW"
      },
      "execution_count": null,
      "outputs": []
    },
    {
      "cell_type": "code",
      "source": [
        "train_data.dtypes"
      ],
      "metadata": {
        "execution": {
          "iopub.status.busy": "2023-10-10T18:08:24.557828Z",
          "iopub.execute_input": "2023-10-10T18:08:24.558148Z",
          "iopub.status.idle": "2023-10-10T18:08:24.574032Z",
          "shell.execute_reply.started": "2023-10-10T18:08:24.558124Z",
          "shell.execute_reply": "2023-10-10T18:08:24.572749Z"
        },
        "trusted": true,
        "id": "WCX6OREWVewX"
      },
      "execution_count": null,
      "outputs": []
    },
    {
      "cell_type": "code",
      "source": [
        "test_data.isnull().sum()\n",
        "\n",
        "train_data.isnull().sum()"
      ],
      "metadata": {
        "execution": {
          "iopub.status.busy": "2023-10-10T18:08:24.576720Z",
          "iopub.execute_input": "2023-10-10T18:08:24.577767Z",
          "iopub.status.idle": "2023-10-10T18:08:24.595294Z",
          "shell.execute_reply.started": "2023-10-10T18:08:24.577693Z",
          "shell.execute_reply": "2023-10-10T18:08:24.594123Z"
        },
        "trusted": true,
        "id": "VLPKvhmlVewY"
      },
      "execution_count": null,
      "outputs": []
    },
    {
      "cell_type": "code",
      "source": [
        "data = pd.concat([train_data, test_data], axis=0, ignore_index=True)\n",
        "data.head(2)"
      ],
      "metadata": {
        "execution": {
          "iopub.status.busy": "2023-10-10T18:08:24.596961Z",
          "iopub.execute_input": "2023-10-10T18:08:24.597421Z",
          "iopub.status.idle": "2023-10-10T18:08:24.629221Z",
          "shell.execute_reply.started": "2023-10-10T18:08:24.597389Z",
          "shell.execute_reply": "2023-10-10T18:08:24.628080Z"
        },
        "trusted": true,
        "id": "TOe0FqagVewZ"
      },
      "execution_count": null,
      "outputs": []
    },
    {
      "cell_type": "code",
      "source": [
        "for column_name in ['Sex','Embarked','Pclass', 'SibSp', 'Parch']:\n",
        "    print(column_name)\n",
        "    sns.countplot(data=data, x=column_name, hue='Survived')\n",
        "    print(\"\")\n",
        "    plt.show()"
      ],
      "metadata": {
        "execution": {
          "iopub.status.busy": "2023-10-10T18:08:24.630544Z",
          "iopub.execute_input": "2023-10-10T18:08:24.630865Z",
          "iopub.status.idle": "2023-10-10T18:08:25.986758Z",
          "shell.execute_reply.started": "2023-10-10T18:08:24.630839Z",
          "shell.execute_reply": "2023-10-10T18:08:25.985908Z"
        },
        "trusted": true,
        "id": "qdgpnuMqVewZ"
      },
      "execution_count": null,
      "outputs": []
    },
    {
      "cell_type": "markdown",
      "source": [
        "## Filling missing values"
      ],
      "metadata": {
        "id": "nfHvve7nVewa"
      }
    },
    {
      "cell_type": "markdown",
      "source": [
        "#### **Age**"
      ],
      "metadata": {
        "id": "44sRfIFiVewa"
      }
    },
    {
      "cell_type": "markdown",
      "source": [
        "We need to fill in the missing values in the age column. Let's see how they compare to Pclass and Sex values"
      ],
      "metadata": {
        "id": "vorfZhvxVewa"
      }
    },
    {
      "cell_type": "code",
      "source": [
        "sns.boxplot(x='Pclass', y='Age', data = data)"
      ],
      "metadata": {
        "execution": {
          "iopub.status.busy": "2023-10-10T18:08:25.990063Z",
          "iopub.execute_input": "2023-10-10T18:08:25.990946Z",
          "iopub.status.idle": "2023-10-10T18:08:26.250998Z",
          "shell.execute_reply.started": "2023-10-10T18:08:25.990915Z",
          "shell.execute_reply": "2023-10-10T18:08:26.249757Z"
        },
        "trusted": true,
        "id": "-uZnx73lVewa"
      },
      "execution_count": null,
      "outputs": []
    },
    {
      "cell_type": "code",
      "source": [
        "g = sns.catplot(\n",
        "    data=data, kind=\"box\",\n",
        "    x=\"Sex\", y=\"Age\", hue=\"Pclass\"\n",
        ")\n",
        "g.despine(left=True)"
      ],
      "metadata": {
        "execution": {
          "iopub.status.busy": "2023-10-10T18:08:26.252989Z",
          "iopub.execute_input": "2023-10-10T18:08:26.253425Z",
          "iopub.status.idle": "2023-10-10T18:08:26.796362Z",
          "shell.execute_reply.started": "2023-10-10T18:08:26.253376Z",
          "shell.execute_reply": "2023-10-10T18:08:26.795159Z"
        },
        "trusted": true,
        "id": "X7ZdbEOOVewb"
      },
      "execution_count": null,
      "outputs": []
    },
    {
      "cell_type": "markdown",
      "source": [
        "As you can see in the chart above, there is a noticeable difference in age values across classes with respect to gender. We can complete the age values with reference to the Pclass value and gender."
      ],
      "metadata": {
        "id": "ktop7mmBVewb"
      }
    },
    {
      "cell_type": "code",
      "source": [
        "data_mean = data.groupby(['Sex','Pclass'], as_index=False)['Age'].mean()\n",
        "print (data_mean)"
      ],
      "metadata": {
        "execution": {
          "iopub.status.busy": "2023-10-10T18:08:26.797995Z",
          "iopub.execute_input": "2023-10-10T18:08:26.798624Z",
          "iopub.status.idle": "2023-10-10T18:08:26.815934Z",
          "shell.execute_reply.started": "2023-10-10T18:08:26.798596Z",
          "shell.execute_reply": "2023-10-10T18:08:26.814586Z"
        },
        "trusted": true,
        "id": "BbOT2nRlVewb"
      },
      "execution_count": null,
      "outputs": []
    },
    {
      "cell_type": "code",
      "source": [
        "def fill_age(row):\n",
        "    age = row[0]\n",
        "    pclass = row[1]\n",
        "    sex=row[2]\n",
        "    if pd.isnull(age):\n",
        "        if pclass==1 and sex=='male':\n",
        "            return 41.02\n",
        "        elif pclass==1 and sex=='female':\n",
        "            return 37.03\n",
        "        elif pclass == 2 and sex=='male':\n",
        "            return 30.81\n",
        "        elif pclass == 2 and sex=='female':\n",
        "            return 27.49\n",
        "        elif pclass == 3 and sex=='male':\n",
        "            return 25.96\n",
        "        else:\n",
        "            return 22.18\n",
        "    else:\n",
        "        return age"
      ],
      "metadata": {
        "execution": {
          "iopub.status.busy": "2023-10-10T18:08:26.817458Z",
          "iopub.execute_input": "2023-10-10T18:08:26.817873Z",
          "iopub.status.idle": "2023-10-10T18:08:26.827929Z",
          "shell.execute_reply.started": "2023-10-10T18:08:26.817844Z",
          "shell.execute_reply": "2023-10-10T18:08:26.826730Z"
        },
        "trusted": true,
        "id": "_vCOuQZQVewc"
      },
      "execution_count": null,
      "outputs": []
    },
    {
      "cell_type": "code",
      "source": [
        "data.isnull().sum()"
      ],
      "metadata": {
        "execution": {
          "iopub.status.busy": "2023-10-10T18:08:26.829210Z",
          "iopub.execute_input": "2023-10-10T18:08:26.829510Z",
          "iopub.status.idle": "2023-10-10T18:08:26.852611Z",
          "shell.execute_reply.started": "2023-10-10T18:08:26.829486Z",
          "shell.execute_reply": "2023-10-10T18:08:26.851555Z"
        },
        "trusted": true,
        "id": "ptJzrsimVewc"
      },
      "execution_count": null,
      "outputs": []
    },
    {
      "cell_type": "code",
      "source": [
        "data['Age'] =  data[['Age', 'Pclass','Sex']].apply(fill_age, axis=1)"
      ],
      "metadata": {
        "execution": {
          "iopub.status.busy": "2023-10-10T18:08:26.854111Z",
          "iopub.execute_input": "2023-10-10T18:08:26.854593Z",
          "iopub.status.idle": "2023-10-10T18:08:26.881816Z",
          "shell.execute_reply.started": "2023-10-10T18:08:26.854562Z",
          "shell.execute_reply": "2023-10-10T18:08:26.880625Z"
        },
        "trusted": true,
        "id": "_YYHoO7hVewc"
      },
      "execution_count": null,
      "outputs": []
    },
    {
      "cell_type": "markdown",
      "source": [
        "#### **Fare**"
      ],
      "metadata": {
        "id": "McInuLN1Vewc"
      }
    },
    {
      "cell_type": "code",
      "source": [
        "data['Fare'] =  data['Fare'].fillna(data['Fare'].mean())"
      ],
      "metadata": {
        "execution": {
          "iopub.status.busy": "2023-10-10T18:08:26.883688Z",
          "iopub.execute_input": "2023-10-10T18:08:26.884046Z",
          "iopub.status.idle": "2023-10-10T18:08:26.897647Z",
          "shell.execute_reply.started": "2023-10-10T18:08:26.884018Z",
          "shell.execute_reply": "2023-10-10T18:08:26.896097Z"
        },
        "trusted": true,
        "id": "tbb4Q-avVewd"
      },
      "execution_count": null,
      "outputs": []
    },
    {
      "cell_type": "markdown",
      "source": [
        "#### **Embarked**"
      ],
      "metadata": {
        "id": "lp5AXiufVewd"
      }
    },
    {
      "cell_type": "code",
      "source": [
        "region = ['Southampton (S)','Cherbourg (C)','Queenstown (Q)']\n",
        "for i in range(0,3):\n",
        "    print('Number of people embarking in {} : {}'.format(\n",
        "        region[i],data[data.Embarked==data.Embarked.unique()[i]].shape[0]))"
      ],
      "metadata": {
        "execution": {
          "iopub.status.busy": "2023-10-10T18:08:26.899256Z",
          "iopub.execute_input": "2023-10-10T18:08:26.899704Z",
          "iopub.status.idle": "2023-10-10T18:08:26.914397Z",
          "shell.execute_reply.started": "2023-10-10T18:08:26.899640Z",
          "shell.execute_reply": "2023-10-10T18:08:26.913285Z"
        },
        "trusted": true,
        "id": "FU-PLwmyVewd"
      },
      "execution_count": null,
      "outputs": []
    },
    {
      "cell_type": "code",
      "source": [
        "data.fillna({'Embarked':'S'},inplace=True)"
      ],
      "metadata": {
        "execution": {
          "iopub.status.busy": "2023-10-10T18:08:26.915723Z",
          "iopub.execute_input": "2023-10-10T18:08:26.916780Z",
          "iopub.status.idle": "2023-10-10T18:08:26.926838Z",
          "shell.execute_reply.started": "2023-10-10T18:08:26.916741Z",
          "shell.execute_reply": "2023-10-10T18:08:26.925747Z"
        },
        "trusted": true,
        "id": "djFgofUSVewd"
      },
      "execution_count": null,
      "outputs": []
    },
    {
      "cell_type": "code",
      "source": [
        "data = data.drop([\"PassengerId\"], axis=1)"
      ],
      "metadata": {
        "execution": {
          "iopub.status.busy": "2023-10-10T18:08:26.928618Z",
          "iopub.execute_input": "2023-10-10T18:08:26.929216Z",
          "iopub.status.idle": "2023-10-10T18:08:26.944191Z",
          "shell.execute_reply.started": "2023-10-10T18:08:26.929172Z",
          "shell.execute_reply": "2023-10-10T18:08:26.942870Z"
        },
        "trusted": true,
        "id": "oAA9t4UpVewe"
      },
      "execution_count": null,
      "outputs": []
    },
    {
      "cell_type": "code",
      "source": [
        "data.isnull().sum()"
      ],
      "metadata": {
        "execution": {
          "iopub.status.busy": "2023-10-10T18:08:26.946299Z",
          "iopub.execute_input": "2023-10-10T18:08:26.947883Z",
          "iopub.status.idle": "2023-10-10T18:08:26.963442Z",
          "shell.execute_reply.started": "2023-10-10T18:08:26.947774Z",
          "shell.execute_reply": "2023-10-10T18:08:26.962372Z"
        },
        "trusted": true,
        "id": "O8bs32krVewe"
      },
      "execution_count": null,
      "outputs": []
    },
    {
      "cell_type": "markdown",
      "source": [
        "##  Categorical  values"
      ],
      "metadata": {
        "id": "s5ddLjC7Vewe"
      }
    },
    {
      "cell_type": "code",
      "source": [
        "def one_hot_encoder_two(data,feature,keep_first=True):\n",
        "\n",
        "    one_hot_cols = pd.get_dummies(data[feature])\n",
        "\n",
        "    for col in one_hot_cols.columns:\n",
        "        one_hot_cols.rename({col:f'{feature}_'+col},axis=1,inplace=True)\n",
        "\n",
        "    new_data = pd.concat([data,one_hot_cols],axis=1)\n",
        "    new_data.drop(feature,axis=1,inplace=True)\n",
        "\n",
        "    if keep_first == False:\n",
        "        new_data=new_data.iloc[:,1:]\n",
        "\n",
        "    return new_data"
      ],
      "metadata": {
        "execution": {
          "iopub.status.busy": "2023-10-10T18:08:26.964906Z",
          "iopub.execute_input": "2023-10-10T18:08:26.965940Z",
          "iopub.status.idle": "2023-10-10T18:08:26.976917Z",
          "shell.execute_reply.started": "2023-10-10T18:08:26.965906Z",
          "shell.execute_reply": "2023-10-10T18:08:26.975580Z"
        },
        "trusted": true,
        "id": "qT4SsiwxVewe"
      },
      "execution_count": null,
      "outputs": []
    },
    {
      "cell_type": "code",
      "source": [
        "data = one_hot_encoder_two(data, 'Embarked')"
      ],
      "metadata": {
        "execution": {
          "iopub.status.busy": "2023-10-10T18:08:26.979305Z",
          "iopub.execute_input": "2023-10-10T18:08:26.980966Z",
          "iopub.status.idle": "2023-10-10T18:08:26.998032Z",
          "shell.execute_reply.started": "2023-10-10T18:08:26.980922Z",
          "shell.execute_reply": "2023-10-10T18:08:26.996249Z"
        },
        "trusted": true,
        "id": "8FuZMgMFVewf"
      },
      "execution_count": null,
      "outputs": []
    },
    {
      "cell_type": "markdown",
      "source": [
        "### feature engeneering"
      ],
      "metadata": {
        "id": "CnDH_KiIVewf"
      }
    },
    {
      "cell_type": "markdown",
      "source": [
        "#### **Cabin -> Deck**"
      ],
      "metadata": {
        "id": "yQKS84YIVewf"
      }
    },
    {
      "cell_type": "code",
      "source": [
        "data.head(2)"
      ],
      "metadata": {
        "execution": {
          "iopub.status.busy": "2023-10-10T18:08:27.000035Z",
          "iopub.execute_input": "2023-10-10T18:08:27.001522Z",
          "iopub.status.idle": "2023-10-10T18:08:27.017615Z",
          "shell.execute_reply.started": "2023-10-10T18:08:27.001476Z",
          "shell.execute_reply": "2023-10-10T18:08:27.016481Z"
        },
        "trusted": true,
        "id": "St5TrXWTVewf"
      },
      "execution_count": null,
      "outputs": []
    },
    {
      "cell_type": "code",
      "source": [
        "def cabin_split(s):\n",
        "    return (''.join(filter(str.isalpha, str(s))) or \"unknown\")"
      ],
      "metadata": {
        "execution": {
          "iopub.status.busy": "2023-10-10T18:08:27.019161Z",
          "iopub.execute_input": "2023-10-10T18:08:27.020335Z",
          "iopub.status.idle": "2023-10-10T18:08:27.032130Z",
          "shell.execute_reply.started": "2023-10-10T18:08:27.020302Z",
          "shell.execute_reply": "2023-10-10T18:08:27.030873Z"
        },
        "trusted": true,
        "id": "fWWWT5U_Vewg"
      },
      "execution_count": null,
      "outputs": []
    },
    {
      "cell_type": "code",
      "source": [
        "#Turning cabin into Deck\n",
        "data[\"Deck\"] = data[\"Cabin\"].apply(cabin_split)"
      ],
      "metadata": {
        "execution": {
          "iopub.status.busy": "2023-10-10T18:08:27.033449Z",
          "iopub.execute_input": "2023-10-10T18:08:27.033863Z",
          "iopub.status.idle": "2023-10-10T18:08:27.047726Z",
          "shell.execute_reply.started": "2023-10-10T18:08:27.033827Z",
          "shell.execute_reply": "2023-10-10T18:08:27.046379Z"
        },
        "trusted": true,
        "id": "Ij0rkuCAVewg"
      },
      "execution_count": null,
      "outputs": []
    },
    {
      "cell_type": "code",
      "source": [
        "data.head(2)"
      ],
      "metadata": {
        "execution": {
          "iopub.status.busy": "2023-10-10T18:08:27.049041Z",
          "iopub.execute_input": "2023-10-10T18:08:27.050025Z",
          "iopub.status.idle": "2023-10-10T18:08:27.070712Z",
          "shell.execute_reply.started": "2023-10-10T18:08:27.049993Z",
          "shell.execute_reply": "2023-10-10T18:08:27.069860Z"
        },
        "trusted": true,
        "id": "rCVStvhqVewo"
      },
      "execution_count": null,
      "outputs": []
    },
    {
      "cell_type": "code",
      "source": [
        "data = one_hot_encoder_two(data, 'Deck')\n"
      ],
      "metadata": {
        "execution": {
          "iopub.status.busy": "2023-10-10T18:08:27.072031Z",
          "iopub.execute_input": "2023-10-10T18:08:27.072778Z",
          "iopub.status.idle": "2023-10-10T18:08:27.088240Z",
          "shell.execute_reply.started": "2023-10-10T18:08:27.072748Z",
          "shell.execute_reply": "2023-10-10T18:08:27.087101Z"
        },
        "trusted": true,
        "id": "vocz8weNVewp"
      },
      "execution_count": null,
      "outputs": []
    },
    {
      "cell_type": "markdown",
      "source": [
        "#### **Ticket**"
      ],
      "metadata": {
        "id": "0tRNdSQvVewp"
      }
    },
    {
      "cell_type": "code",
      "source": [
        "def ticket_number(x):\n",
        "    if x == 'LINE':\n",
        "        return 0\n",
        "    return x.split(\" \")[-1]\n",
        "\n",
        "def ticket_item(x):\n",
        "    items = x.split(\" \")\n",
        "    if len(items) == 1:\n",
        "        return None\n",
        "    return \"_\".join(items[0:-1])"
      ],
      "metadata": {
        "execution": {
          "iopub.status.busy": "2023-10-10T18:08:27.095254Z",
          "iopub.execute_input": "2023-10-10T18:08:27.095871Z",
          "iopub.status.idle": "2023-10-10T18:08:27.101710Z",
          "shell.execute_reply.started": "2023-10-10T18:08:27.095839Z",
          "shell.execute_reply": "2023-10-10T18:08:27.100730Z"
        },
        "trusted": true,
        "id": "K5ONW9wvVewp"
      },
      "execution_count": null,
      "outputs": []
    },
    {
      "cell_type": "code",
      "source": [
        "print(ticket_item(\"A/5 21117\"))\n",
        "print(ticket_number(\"A/5 21117\"))"
      ],
      "metadata": {
        "execution": {
          "iopub.status.busy": "2023-10-10T18:08:27.103106Z",
          "iopub.execute_input": "2023-10-10T18:08:27.104252Z",
          "iopub.status.idle": "2023-10-10T18:08:27.117401Z",
          "shell.execute_reply.started": "2023-10-10T18:08:27.104212Z",
          "shell.execute_reply": "2023-10-10T18:08:27.116261Z"
        },
        "trusted": true,
        "id": "ZG_eLe70Vewq"
      },
      "execution_count": null,
      "outputs": []
    },
    {
      "cell_type": "code",
      "source": [
        "data[\"Ticket_number\"] = data[\"Ticket\"].apply(ticket_number)\n",
        "data[\"Ticket_item\"] = data[\"Ticket\"].apply(ticket_item)"
      ],
      "metadata": {
        "execution": {
          "iopub.status.busy": "2023-10-10T18:08:27.118693Z",
          "iopub.execute_input": "2023-10-10T18:08:27.119591Z",
          "iopub.status.idle": "2023-10-10T18:08:27.132461Z",
          "shell.execute_reply.started": "2023-10-10T18:08:27.119543Z",
          "shell.execute_reply": "2023-10-10T18:08:27.130954Z"
        },
        "trusted": true,
        "id": "OAaqi-SGVewq"
      },
      "execution_count": null,
      "outputs": []
    },
    {
      "cell_type": "markdown",
      "source": [
        "Use one hot encoder to get rid of caterogical values on chosen columns"
      ],
      "metadata": {
        "id": "EIsO_5z4Vewq"
      }
    },
    {
      "cell_type": "code",
      "source": [
        "data = one_hot_encoder_two(data, 'Ticket_item')"
      ],
      "metadata": {
        "execution": {
          "iopub.status.busy": "2023-10-10T18:08:27.133954Z",
          "iopub.execute_input": "2023-10-10T18:08:27.134379Z",
          "iopub.status.idle": "2023-10-10T18:08:27.174559Z",
          "shell.execute_reply.started": "2023-10-10T18:08:27.134328Z",
          "shell.execute_reply": "2023-10-10T18:08:27.173336Z"
        },
        "trusted": true,
        "id": "wk_u0iwZVewq"
      },
      "execution_count": null,
      "outputs": []
    },
    {
      "cell_type": "code",
      "source": [
        "data.head(2)"
      ],
      "metadata": {
        "execution": {
          "iopub.status.busy": "2023-10-10T18:08:27.176171Z",
          "iopub.execute_input": "2023-10-10T18:08:27.177044Z",
          "iopub.status.idle": "2023-10-10T18:08:27.199167Z",
          "shell.execute_reply.started": "2023-10-10T18:08:27.177007Z",
          "shell.execute_reply": "2023-10-10T18:08:27.197746Z"
        },
        "trusted": true,
        "id": "hAwOT2dCVewr"
      },
      "execution_count": null,
      "outputs": []
    },
    {
      "cell_type": "markdown",
      "source": [
        "#### **Name**"
      ],
      "metadata": {
        "id": "Nf39DoZqVewr"
      }
    },
    {
      "cell_type": "code",
      "source": [
        "data[\"Name\"][:5]"
      ],
      "metadata": {
        "execution": {
          "iopub.status.busy": "2023-10-10T18:08:27.200346Z",
          "iopub.execute_input": "2023-10-10T18:08:27.201508Z",
          "iopub.status.idle": "2023-10-10T18:08:27.211259Z",
          "shell.execute_reply.started": "2023-10-10T18:08:27.201464Z",
          "shell.execute_reply": "2023-10-10T18:08:27.209978Z"
        },
        "trusted": true,
        "id": "xJ1vAQtQVewr"
      },
      "execution_count": null,
      "outputs": []
    },
    {
      "cell_type": "markdown",
      "source": [
        "For the \"Name\" field to be used in our model, it must be transformed. As you can see, each passenger has a title, let's separate it into a separate column. And I'll see how many there are\n"
      ],
      "metadata": {
        "id": "16WBKMo3Vewr"
      }
    },
    {
      "cell_type": "code",
      "source": [
        "\n",
        "data['Prefix'] = data.Name.str.extract('([A-Za-z]+)\\.',expand=False)\n",
        "data.Prefix.unique()"
      ],
      "metadata": {
        "execution": {
          "iopub.status.busy": "2023-10-10T18:08:27.212761Z",
          "iopub.execute_input": "2023-10-10T18:08:27.213063Z",
          "iopub.status.idle": "2023-10-10T18:08:27.233987Z",
          "shell.execute_reply.started": "2023-10-10T18:08:27.213040Z",
          "shell.execute_reply": "2023-10-10T18:08:27.232692Z"
        },
        "trusted": true,
        "id": "FJ0n-ffQVews"
      },
      "execution_count": null,
      "outputs": []
    },
    {
      "cell_type": "markdown",
      "source": [
        "Let's combine some of them together"
      ],
      "metadata": {
        "id": "nrMOzRNuVews"
      }
    },
    {
      "cell_type": "code",
      "source": [
        "data['Prefix'] = data['Prefix'].replace(['Lady','Capt','Col','Don','Dr','Major','Rev','Jonkheer','Dona'],'Rare')\n",
        "data['Prefix'] = data['Prefix'].replace(['Countess','Lady','Sir'],'Royal')\n",
        "data['Prefix'] = data['Prefix'].replace(['Mlle','Ms'],'Miss')\n",
        "data['Prefix'] = data['Prefix'].replace(['Mme'],'Mrs')"
      ],
      "metadata": {
        "execution": {
          "iopub.status.busy": "2023-10-10T18:08:27.236148Z",
          "iopub.execute_input": "2023-10-10T18:08:27.236723Z",
          "iopub.status.idle": "2023-10-10T18:08:27.249456Z",
          "shell.execute_reply.started": "2023-10-10T18:08:27.236684Z",
          "shell.execute_reply": "2023-10-10T18:08:27.248119Z"
        },
        "trusted": true,
        "id": "ykeXftZuVews"
      },
      "execution_count": null,
      "outputs": []
    },
    {
      "cell_type": "code",
      "source": [
        "print(data.Prefix.unique())"
      ],
      "metadata": {
        "execution": {
          "iopub.status.busy": "2023-10-10T18:08:27.250680Z",
          "iopub.execute_input": "2023-10-10T18:08:27.251095Z",
          "iopub.status.idle": "2023-10-10T18:08:27.267990Z",
          "shell.execute_reply.started": "2023-10-10T18:08:27.251057Z",
          "shell.execute_reply": "2023-10-10T18:08:27.266716Z"
        },
        "trusted": true,
        "id": "Sj4kaHOzVewt"
      },
      "execution_count": null,
      "outputs": []
    },
    {
      "cell_type": "code",
      "source": [
        "data.head(2)"
      ],
      "metadata": {
        "execution": {
          "iopub.status.busy": "2023-10-10T18:08:27.270150Z",
          "iopub.execute_input": "2023-10-10T18:08:27.271309Z",
          "iopub.status.idle": "2023-10-10T18:08:27.296864Z",
          "shell.execute_reply.started": "2023-10-10T18:08:27.271261Z",
          "shell.execute_reply": "2023-10-10T18:08:27.295726Z"
        },
        "trusted": true,
        "id": "QuNllHedVewt"
      },
      "execution_count": null,
      "outputs": []
    },
    {
      "cell_type": "code",
      "source": [
        "data = one_hot_encoder_two(data, 'Prefix')"
      ],
      "metadata": {
        "execution": {
          "iopub.status.busy": "2023-10-10T18:08:27.297856Z",
          "iopub.execute_input": "2023-10-10T18:08:27.298897Z",
          "iopub.status.idle": "2023-10-10T18:08:27.308159Z",
          "shell.execute_reply.started": "2023-10-10T18:08:27.298866Z",
          "shell.execute_reply": "2023-10-10T18:08:27.306983Z"
        },
        "trusted": true,
        "id": "s2prrB-iVewt"
      },
      "execution_count": null,
      "outputs": []
    },
    {
      "cell_type": "markdown",
      "source": [
        "#### **Sex**"
      ],
      "metadata": {
        "id": "--5EI6owVewu"
      }
    },
    {
      "cell_type": "code",
      "source": [
        "data = one_hot_encoder_two(data, 'Sex')"
      ],
      "metadata": {
        "execution": {
          "iopub.status.busy": "2023-10-10T18:08:27.310410Z",
          "iopub.execute_input": "2023-10-10T18:08:27.311566Z",
          "iopub.status.idle": "2023-10-10T18:08:27.323204Z",
          "shell.execute_reply.started": "2023-10-10T18:08:27.311531Z",
          "shell.execute_reply": "2023-10-10T18:08:27.322270Z"
        },
        "trusted": true,
        "id": "yfqD_ZiQVewu"
      },
      "execution_count": null,
      "outputs": []
    },
    {
      "cell_type": "markdown",
      "source": [
        "### prepare train & test data"
      ],
      "metadata": {
        "id": "DRPMiVeyVewu"
      }
    },
    {
      "cell_type": "markdown",
      "source": [
        "#### train data\n"
      ],
      "metadata": {
        "id": "JwqgeImiVewu"
      }
    },
    {
      "cell_type": "code",
      "source": [
        "# prepare training data y\n",
        "y = train_data[\"Survived\"]\n",
        "y"
      ],
      "metadata": {
        "execution": {
          "iopub.status.busy": "2023-10-10T18:08:27.324673Z",
          "iopub.execute_input": "2023-10-10T18:08:27.325169Z",
          "iopub.status.idle": "2023-10-10T18:08:27.336463Z",
          "shell.execute_reply.started": "2023-10-10T18:08:27.325135Z",
          "shell.execute_reply": "2023-10-10T18:08:27.335384Z"
        },
        "trusted": true,
        "id": "JLHOl1ToVewv"
      },
      "execution_count": null,
      "outputs": []
    },
    {
      "cell_type": "code",
      "source": [
        "# Get the index where the train and test data were originally separated\n",
        "train_data_index = len(train_data)\n",
        "test_data_index = len(data) - len(test_data)"
      ],
      "metadata": {
        "execution": {
          "iopub.status.busy": "2023-10-10T18:08:27.338016Z",
          "iopub.execute_input": "2023-10-10T18:08:27.338344Z",
          "iopub.status.idle": "2023-10-10T18:08:27.350966Z",
          "shell.execute_reply.started": "2023-10-10T18:08:27.338319Z",
          "shell.execute_reply": "2023-10-10T18:08:27.349970Z"
        },
        "trusted": true,
        "id": "r-9UpXvgVewv"
      },
      "execution_count": null,
      "outputs": []
    },
    {
      "cell_type": "code",
      "source": [
        "# Split the concatenated data back into train and test sets\n",
        "X = data[:train_data_index].copy()\n",
        "X_test = data[test_data_index:].copy()"
      ],
      "metadata": {
        "execution": {
          "iopub.status.busy": "2023-10-10T18:08:27.352354Z",
          "iopub.execute_input": "2023-10-10T18:08:27.352711Z",
          "iopub.status.idle": "2023-10-10T18:08:27.371257Z",
          "shell.execute_reply.started": "2023-10-10T18:08:27.352674Z",
          "shell.execute_reply": "2023-10-10T18:08:27.369633Z"
        },
        "trusted": true,
        "id": "U_4Wt8maVewv"
      },
      "execution_count": null,
      "outputs": []
    },
    {
      "cell_type": "code",
      "source": [
        "X.head(2)"
      ],
      "metadata": {
        "execution": {
          "iopub.status.busy": "2023-10-10T18:08:27.372726Z",
          "iopub.execute_input": "2023-10-10T18:08:27.373990Z",
          "iopub.status.idle": "2023-10-10T18:08:27.398505Z",
          "shell.execute_reply.started": "2023-10-10T18:08:27.373951Z",
          "shell.execute_reply": "2023-10-10T18:08:27.397051Z"
        },
        "trusted": true,
        "id": "J5fDEZx6Veww"
      },
      "execution_count": null,
      "outputs": []
    },
    {
      "cell_type": "code",
      "source": [
        "X_test.head(2)"
      ],
      "metadata": {
        "execution": {
          "iopub.status.busy": "2023-10-10T18:08:27.400008Z",
          "iopub.execute_input": "2023-10-10T18:08:27.400693Z",
          "iopub.status.idle": "2023-10-10T18:08:27.422839Z",
          "shell.execute_reply.started": "2023-10-10T18:08:27.400663Z",
          "shell.execute_reply": "2023-10-10T18:08:27.421603Z"
        },
        "trusted": true,
        "id": "NX__2ic8Veww"
      },
      "execution_count": null,
      "outputs": []
    },
    {
      "cell_type": "code",
      "source": [
        "X.drop(columns=[\"Survived\", \"Name\", \"Cabin\", \"Ticket\", \"Fare\"], inplace=True)\n",
        "X.head()"
      ],
      "metadata": {
        "execution": {
          "iopub.status.busy": "2023-10-10T18:08:27.424129Z",
          "iopub.execute_input": "2023-10-10T18:08:27.424459Z",
          "iopub.status.idle": "2023-10-10T18:08:27.454473Z",
          "shell.execute_reply.started": "2023-10-10T18:08:27.424433Z",
          "shell.execute_reply": "2023-10-10T18:08:27.453209Z"
        },
        "trusted": true,
        "id": "IU0eiqLYVeww"
      },
      "execution_count": null,
      "outputs": []
    },
    {
      "cell_type": "markdown",
      "source": [
        "#### test data"
      ],
      "metadata": {
        "id": "hIE1R3eXVeww"
      }
    },
    {
      "cell_type": "code",
      "source": [
        "X_test.head(2)"
      ],
      "metadata": {
        "execution": {
          "iopub.status.busy": "2023-10-10T18:08:27.457440Z",
          "iopub.execute_input": "2023-10-10T18:08:27.458026Z",
          "iopub.status.idle": "2023-10-10T18:08:27.478241Z",
          "shell.execute_reply.started": "2023-10-10T18:08:27.457994Z",
          "shell.execute_reply": "2023-10-10T18:08:27.476975Z"
        },
        "trusted": true,
        "id": "s68LW0lHVewx"
      },
      "execution_count": null,
      "outputs": []
    },
    {
      "cell_type": "code",
      "source": [
        "X_test.drop(columns=[\"Survived\", \"Name\", \"Cabin\", \"Ticket\", \"Fare\"], inplace=True)\n",
        "X_test.head()"
      ],
      "metadata": {
        "execution": {
          "iopub.status.busy": "2023-10-10T18:08:27.479595Z",
          "iopub.execute_input": "2023-10-10T18:08:27.479950Z",
          "iopub.status.idle": "2023-10-10T18:08:27.499597Z",
          "shell.execute_reply.started": "2023-10-10T18:08:27.479925Z",
          "shell.execute_reply": "2023-10-10T18:08:27.498726Z"
        },
        "trusted": true,
        "id": "aqf0FHkZVewx"
      },
      "execution_count": null,
      "outputs": []
    },
    {
      "cell_type": "markdown",
      "source": [
        "# model"
      ],
      "metadata": {
        "id": "5oCXKz_OVewx"
      }
    },
    {
      "cell_type": "markdown",
      "source": [
        "## Random Forest Clssifier"
      ],
      "metadata": {
        "id": "I-CRZtU9Vewy"
      }
    },
    {
      "cell_type": "code",
      "source": [
        "rand_forest = RandomForestClassifier(random_state=42, n_jobs=-1, max_depth=5,\n",
        "                                       n_estimators=100, oob_score=True)"
      ],
      "metadata": {
        "execution": {
          "iopub.status.busy": "2023-10-10T18:14:16.948412Z",
          "iopub.execute_input": "2023-10-10T18:14:16.948822Z",
          "iopub.status.idle": "2023-10-10T18:14:16.955006Z",
          "shell.execute_reply.started": "2023-10-10T18:14:16.948793Z",
          "shell.execute_reply": "2023-10-10T18:14:16.953738Z"
        },
        "trusted": true,
        "id": "SeNy5N_-Vewy"
      },
      "execution_count": null,
      "outputs": []
    },
    {
      "cell_type": "code",
      "source": [
        "%%time\n",
        "rand_forest.fit(X, y)"
      ],
      "metadata": {
        "execution": {
          "iopub.status.busy": "2023-10-10T18:14:19.915268Z",
          "iopub.execute_input": "2023-10-10T18:14:19.915671Z",
          "iopub.status.idle": "2023-10-10T18:14:20.310257Z",
          "shell.execute_reply.started": "2023-10-10T18:14:19.915629Z",
          "shell.execute_reply": "2023-10-10T18:14:20.308805Z"
        },
        "trusted": true,
        "id": "56K8AeUQVewy"
      },
      "execution_count": null,
      "outputs": []
    },
    {
      "cell_type": "code",
      "source": [
        "# checking the oob score\n",
        "rand_forest.oob_score_"
      ],
      "metadata": {
        "execution": {
          "iopub.status.busy": "2023-10-10T18:14:23.574790Z",
          "iopub.execute_input": "2023-10-10T18:14:23.575203Z",
          "iopub.status.idle": "2023-10-10T18:14:23.582262Z",
          "shell.execute_reply.started": "2023-10-10T18:14:23.575176Z",
          "shell.execute_reply": "2023-10-10T18:14:23.581333Z"
        },
        "trusted": true,
        "id": "yDYlLniTVewy"
      },
      "execution_count": null,
      "outputs": []
    },
    {
      "cell_type": "code",
      "source": [
        "rf = RandomForestClassifier(random_state=42, n_jobs=-1)"
      ],
      "metadata": {
        "execution": {
          "iopub.status.busy": "2023-10-10T18:14:27.083606Z",
          "iopub.execute_input": "2023-10-10T18:14:27.084001Z",
          "iopub.status.idle": "2023-10-10T18:14:27.089697Z",
          "shell.execute_reply.started": "2023-10-10T18:14:27.083974Z",
          "shell.execute_reply": "2023-10-10T18:14:27.087972Z"
        },
        "trusted": true,
        "id": "g1BrrdmeVewz"
      },
      "execution_count": null,
      "outputs": []
    },
    {
      "cell_type": "code",
      "source": [
        "params = {\n",
        "    'max_depth': [2,3,5,10,20],\n",
        "    'min_samples_leaf': [5,10,20,50,100,200],\n",
        "    'n_estimators': [10,25,30,50,100,200],\n",
        "    'criterion': ['gini', 'entropy', 'log_loss']\n",
        "}"
      ],
      "metadata": {
        "execution": {
          "iopub.status.busy": "2023-10-10T18:14:31.007150Z",
          "iopub.execute_input": "2023-10-10T18:14:31.007562Z",
          "iopub.status.idle": "2023-10-10T18:14:31.014058Z",
          "shell.execute_reply.started": "2023-10-10T18:14:31.007532Z",
          "shell.execute_reply": "2023-10-10T18:14:31.012784Z"
        },
        "trusted": true,
        "id": "H76piLYKVewz"
      },
      "execution_count": null,
      "outputs": []
    },
    {
      "cell_type": "code",
      "source": [
        "# Instantiate the grid search model\n",
        "grid_search = GridSearchCV(estimator=rf,\n",
        "                           param_grid=params,\n",
        "                           cv = 4,\n",
        "                           n_jobs=-1, verbose=1, scoring=\"accuracy\")"
      ],
      "metadata": {
        "execution": {
          "iopub.status.busy": "2023-10-10T18:14:32.941090Z",
          "iopub.execute_input": "2023-10-10T18:14:32.941939Z",
          "iopub.status.idle": "2023-10-10T18:14:32.947810Z",
          "shell.execute_reply.started": "2023-10-10T18:14:32.941901Z",
          "shell.execute_reply": "2023-10-10T18:14:32.946588Z"
        },
        "trusted": true,
        "id": "aYOy1VHCVewz"
      },
      "execution_count": null,
      "outputs": []
    },
    {
      "cell_type": "code",
      "source": [
        "%%time\n",
        "grid_search.fit(X, y)\n"
      ],
      "metadata": {
        "execution": {
          "iopub.status.busy": "2023-10-10T18:14:34.950631Z",
          "iopub.execute_input": "2023-10-10T18:14:34.951043Z",
          "iopub.status.idle": "2023-10-10T18:17:04.683632Z",
          "shell.execute_reply.started": "2023-10-10T18:14:34.951016Z",
          "shell.execute_reply": "2023-10-10T18:17:04.681609Z"
        },
        "trusted": true,
        "id": "gIlpgvBgVew0"
      },
      "execution_count": null,
      "outputs": []
    },
    {
      "cell_type": "code",
      "source": [
        "print(grid_search.best_score_)"
      ],
      "metadata": {
        "execution": {
          "iopub.status.busy": "2023-10-10T18:17:04.687335Z",
          "iopub.execute_input": "2023-10-10T18:17:04.687865Z",
          "iopub.status.idle": "2023-10-10T18:17:04.694987Z",
          "shell.execute_reply.started": "2023-10-10T18:17:04.687805Z",
          "shell.execute_reply": "2023-10-10T18:17:04.693049Z"
        },
        "trusted": true,
        "id": "fqGg9-ncVew0"
      },
      "execution_count": null,
      "outputs": []
    },
    {
      "cell_type": "code",
      "source": [
        "rf_best = grid_search.best_estimator_\n",
        "print(rf_best)"
      ],
      "metadata": {
        "execution": {
          "iopub.status.busy": "2023-10-10T18:17:04.697549Z",
          "iopub.execute_input": "2023-10-10T18:17:04.698197Z",
          "iopub.status.idle": "2023-10-10T18:17:04.710045Z",
          "shell.execute_reply.started": "2023-10-10T18:17:04.698146Z",
          "shell.execute_reply": "2023-10-10T18:17:04.709088Z"
        },
        "trusted": true,
        "id": "yOGxLzeJVew0"
      },
      "execution_count": null,
      "outputs": []
    },
    {
      "cell_type": "code",
      "source": [
        "\n",
        "plt.figure(figsize=(80,40))\n",
        "plot_tree(rf_best.estimators_[5], feature_names = X.columns,class_names=['Survived', 'no'],filled=True);"
      ],
      "metadata": {
        "execution": {
          "iopub.status.busy": "2023-10-10T18:17:04.712229Z",
          "iopub.execute_input": "2023-10-10T18:17:04.712535Z",
          "iopub.status.idle": "2023-10-10T18:17:08.020208Z",
          "shell.execute_reply.started": "2023-10-10T18:17:04.712511Z",
          "shell.execute_reply": "2023-10-10T18:17:08.019151Z"
        },
        "trusted": true,
        "id": "Y9DiSob5Vew0"
      },
      "execution_count": null,
      "outputs": []
    },
    {
      "cell_type": "markdown",
      "source": [
        "make predictions"
      ],
      "metadata": {
        "id": "pR4g0aV2Vew1"
      }
    },
    {
      "cell_type": "code",
      "source": [
        "model = RandomForestClassifier(max_depth=10,criterion='entropy', min_samples_leaf=5, n_estimators=25,\n",
        "                       n_jobs=-1, random_state=42)\n",
        "model.fit(X,y)"
      ],
      "metadata": {
        "execution": {
          "iopub.status.busy": "2023-10-10T18:17:08.118843Z",
          "iopub.execute_input": "2023-10-10T18:17:08.119168Z",
          "iopub.status.idle": "2023-10-10T18:17:08.211837Z",
          "shell.execute_reply.started": "2023-10-10T18:17:08.119142Z",
          "shell.execute_reply": "2023-10-10T18:17:08.210571Z"
        },
        "trusted": true,
        "id": "zNnBjO26Vew1"
      },
      "execution_count": null,
      "outputs": []
    },
    {
      "cell_type": "code",
      "source": [
        "model.score(X,y)\n"
      ],
      "metadata": {
        "execution": {
          "iopub.status.busy": "2023-10-10T18:17:08.213167Z",
          "iopub.execute_input": "2023-10-10T18:17:08.213467Z",
          "iopub.status.idle": "2023-10-10T18:17:08.243700Z",
          "shell.execute_reply.started": "2023-10-10T18:17:08.213442Z",
          "shell.execute_reply": "2023-10-10T18:17:08.242513Z"
        },
        "trusted": true,
        "id": "lAfofXP_Vew1"
      },
      "execution_count": null,
      "outputs": []
    },
    {
      "cell_type": "code",
      "source": [
        "predictions = model.predict(X_test)"
      ],
      "metadata": {
        "execution": {
          "iopub.status.busy": "2023-10-10T18:17:08.245028Z",
          "iopub.execute_input": "2023-10-10T18:17:08.245333Z",
          "iopub.status.idle": "2023-10-10T18:17:08.269169Z",
          "shell.execute_reply.started": "2023-10-10T18:17:08.245308Z",
          "shell.execute_reply": "2023-10-10T18:17:08.267945Z"
        },
        "trusted": true,
        "id": "SNRV1gulVew1"
      },
      "execution_count": null,
      "outputs": []
    },
    {
      "cell_type": "code",
      "source": [
        "output = pd.DataFrame({'PassengerId': test_data.PassengerId, 'Survived': predictions})\n",
        "output.to_csv('submission_random_forest.csv', index=False)\n",
        "print(\"Your submission was successfully saved!\")"
      ],
      "metadata": {
        "execution": {
          "iopub.status.busy": "2023-10-10T18:17:08.270791Z",
          "iopub.execute_input": "2023-10-10T18:17:08.271424Z",
          "iopub.status.idle": "2023-10-10T18:17:08.282682Z",
          "shell.execute_reply.started": "2023-10-10T18:17:08.271394Z",
          "shell.execute_reply": "2023-10-10T18:17:08.281324Z"
        },
        "trusted": true,
        "id": "IdUHCXQrVew2"
      },
      "execution_count": null,
      "outputs": []
    },
    {
      "cell_type": "code",
      "source": [],
      "metadata": {
        "trusted": true,
        "id": "pG9cQBWnVew2"
      },
      "execution_count": null,
      "outputs": []
    }
  ]
}